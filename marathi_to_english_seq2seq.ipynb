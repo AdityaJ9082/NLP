{
  "nbformat": 4,
  "nbformat_minor": 0,
  "metadata": {
    "colab": {
      "provenance": [],
      "gpuType": "T4",
      "include_colab_link": true
    },
    "kernelspec": {
      "name": "python3",
      "display_name": "Python 3"
    },
    "language_info": {
      "name": "python"
    },
    "accelerator": "GPU"
  },
  "cells": [
    {
      "cell_type": "markdown",
      "metadata": {
        "id": "view-in-github",
        "colab_type": "text"
      },
      "source": [
        "<a href=\"https://colab.research.google.com/github/AdityaJ9082/NLP/blob/main/marathi_to_english_seq2seq.ipynb\" target=\"_parent\"><img src=\"https://colab.research.google.com/assets/colab-badge.svg\" alt=\"Open In Colab\"/></a>"
      ]
    },
    {
      "cell_type": "code",
      "execution_count": null,
      "metadata": {
        "id": "A9mzwOOp-oXy"
      },
      "outputs": [],
      "source": [
        "import pandas as pd\n",
        "from sklearn.model_selection import train_test_split\n",
        "import string\n",
        "from string import digits\n",
        "import re\n",
        "from sklearn.utils import shuffle\n",
        "from keras.preprocessing.sequence import pad_sequences\n",
        "from keras.layers import LSTM, Input, Dense,Embedding\n",
        "from keras.models import Model,load_model\n",
        "from keras.utils import plot_model\n",
        "from keras.preprocessing.text import one_hot\n",
        "from keras.preprocessing.text import Tokenizer\n",
        "from keras.models import model_from_json\n",
        "import pickle as pkl\n",
        "import numpy as np\n",
        "import matplotlib.pyplot as plt"
      ]
    },
    {
      "cell_type": "code",
      "source": [
        "c=0\n",
        "english_sentences=[]\n",
        "marathi_input_sentences=[]\n",
        "marathi_target_sentences=[]\n",
        "for i in open('mar.txt','r'):\n",
        "  # print(i)\n",
        "  # c+=1\n",
        "  f=i.split('\\t')\n",
        "  # print(f)\n",
        "  # if c==2:\n",
        "  #   break\n",
        "  # f=i.split('/t')\n",
        "  # print(f)\n",
        "\n",
        "  english_sentences.append(f[0])\n",
        "  marathi_input='<sos> '+f[1]\n",
        "  marathi_target=f[1]+' <eos>'\n",
        "  marathi_input_sentences.append(marathi_input)\n",
        "  marathi_target_sentences.append(marathi_target)\n",
        "\n"
      ],
      "metadata": {
        "id": "p0aZ7h1DB0GH"
      },
      "execution_count": null,
      "outputs": []
    },
    {
      "cell_type": "code",
      "source": [
        "marathi_input_sentences[:10]"
      ],
      "metadata": {
        "colab": {
          "base_uri": "https://localhost:8080/"
        },
        "id": "zpHwMcpiCCw4",
        "outputId": "72dc0524-aa6a-4734-d223-703a15fd9437"
      },
      "execution_count": null,
      "outputs": [
        {
          "output_type": "execute_result",
          "data": {
            "text/plain": [
              "['<sos> जा.',\n",
              " '<sos> पळ!',\n",
              " '<sos> धाव!',\n",
              " '<sos> पळा!',\n",
              " '<sos> धावा!',\n",
              " '<sos> कोण?',\n",
              " '<sos> वाह!',\n",
              " '<sos> खाली वाका!',\n",
              " '<sos> आग!',\n",
              " '<sos> फायर!']"
            ]
          },
          "metadata": {},
          "execution_count": 3
        }
      ]
    },
    {
      "cell_type": "code",
      "source": [
        "string.punctuation"
      ],
      "metadata": {
        "colab": {
          "base_uri": "https://localhost:8080/",
          "height": 36
        },
        "id": "pvmT0oDzDGi-",
        "outputId": "61013441-215a-4378-ce87-d6c41352ac2e"
      },
      "execution_count": null,
      "outputs": [
        {
          "output_type": "execute_result",
          "data": {
            "text/plain": [
              "'!\"#$%&\\'()*+,-./:;<=>?@[\\\\]^_`{|}~'"
            ],
            "application/vnd.google.colaboratory.intrinsic+json": {
              "type": "string"
            }
          },
          "metadata": {},
          "execution_count": 4
        }
      ]
    },
    {
      "cell_type": "code",
      "source": [
        "a='!\"#$%&\\'()*+,-./:;?@[\\\\]^_`{|}~='"
      ],
      "metadata": {
        "id": "_76OJD3CDiWy"
      },
      "execution_count": null,
      "outputs": []
    },
    {
      "cell_type": "code",
      "source": [],
      "metadata": {
        "id": "484roNfqH5Sf"
      },
      "execution_count": null,
      "outputs": []
    },
    {
      "cell_type": "code",
      "source": [
        "marathi_target_sentences[:10]"
      ],
      "metadata": {
        "colab": {
          "base_uri": "https://localhost:8080/"
        },
        "id": "5UlSCX_NDvC8",
        "outputId": "b867c2cc-f519-48a4-93f2-6e0cd8832d12"
      },
      "execution_count": null,
      "outputs": [
        {
          "output_type": "execute_result",
          "data": {
            "text/plain": [
              "['जा. <eos>',\n",
              " 'पळ! <eos>',\n",
              " 'धाव! <eos>',\n",
              " 'पळा! <eos>',\n",
              " 'धावा! <eos>',\n",
              " 'कोण? <eos>',\n",
              " 'वाह! <eos>',\n",
              " 'खाली वाका! <eos>',\n",
              " 'आग! <eos>',\n",
              " 'फायर! <eos>']"
            ]
          },
          "metadata": {},
          "execution_count": 6
        }
      ]
    },
    {
      "cell_type": "code",
      "source": [
        "df=pd.DataFrame({'English':english_sentences,'Marathi_input':marathi_input_sentences,'Marathi_target':marathi_target_sentences})"
      ],
      "metadata": {
        "id": "T17O3yehD3WW"
      },
      "execution_count": null,
      "outputs": []
    },
    {
      "cell_type": "code",
      "source": [
        "df"
      ],
      "metadata": {
        "colab": {
          "base_uri": "https://localhost:8080/",
          "height": 423
        },
        "id": "Dgkc2eXfEQow",
        "outputId": "d7d6f8d2-5506-4b8c-c5d2-273fbb9bf413"
      },
      "execution_count": null,
      "outputs": [
        {
          "output_type": "execute_result",
          "data": {
            "text/plain": [
              "                             English  \\\n",
              "0                                Go.   \n",
              "1                               Run!   \n",
              "2                               Run!   \n",
              "3                               Run!   \n",
              "4                               Run!   \n",
              "...                              ...   \n",
              "32406  I think I've already met you.   \n",
              "32407  I think I've already met you.   \n",
              "32408  I think I've already met you.   \n",
              "32409  I think about that every day.   \n",
              "32410  I think about that every day.   \n",
              "\n",
              "                                     Marathi_input  \\\n",
              "0                                        <sos> जा.   \n",
              "1                                        <sos> पळ!   \n",
              "2                                       <sos> धाव!   \n",
              "3                                       <sos> पळा!   \n",
              "4                                      <sos> धावा!   \n",
              "...                                            ...   \n",
              "32406      <sos> मला वाटतं मी तुला आधीच भेटले आहे.   \n",
              "32407  <sos> मला वाटतं मी तुम्हाला आधीच भेटले आहे.   \n",
              "32408  <sos> मला वाटतं मी तुम्हाला आधीच भेटलो आहे.   \n",
              "32409         <sos> मी त्याबद्दल दररोज विचार करतो.   \n",
              "32410         <sos> त्याबाबत मी दररोजच विचार करते.   \n",
              "\n",
              "                                    Marathi_target  \n",
              "0                                        जा. <eos>  \n",
              "1                                        पळ! <eos>  \n",
              "2                                       धाव! <eos>  \n",
              "3                                       पळा! <eos>  \n",
              "4                                      धावा! <eos>  \n",
              "...                                            ...  \n",
              "32406      मला वाटतं मी तुला आधीच भेटले आहे. <eos>  \n",
              "32407  मला वाटतं मी तुम्हाला आधीच भेटले आहे. <eos>  \n",
              "32408  मला वाटतं मी तुम्हाला आधीच भेटलो आहे. <eos>  \n",
              "32409         मी त्याबद्दल दररोज विचार करतो. <eos>  \n",
              "32410         त्याबाबत मी दररोजच विचार करते. <eos>  \n",
              "\n",
              "[32411 rows x 3 columns]"
            ],
            "text/html": [
              "\n",
              "  <div id=\"df-e0517de7-07a7-4a8c-84f0-6ce5a1722b70\" class=\"colab-df-container\">\n",
              "    <div>\n",
              "<style scoped>\n",
              "    .dataframe tbody tr th:only-of-type {\n",
              "        vertical-align: middle;\n",
              "    }\n",
              "\n",
              "    .dataframe tbody tr th {\n",
              "        vertical-align: top;\n",
              "    }\n",
              "\n",
              "    .dataframe thead th {\n",
              "        text-align: right;\n",
              "    }\n",
              "</style>\n",
              "<table border=\"1\" class=\"dataframe\">\n",
              "  <thead>\n",
              "    <tr style=\"text-align: right;\">\n",
              "      <th></th>\n",
              "      <th>English</th>\n",
              "      <th>Marathi_input</th>\n",
              "      <th>Marathi_target</th>\n",
              "    </tr>\n",
              "  </thead>\n",
              "  <tbody>\n",
              "    <tr>\n",
              "      <th>0</th>\n",
              "      <td>Go.</td>\n",
              "      <td>&lt;sos&gt; जा.</td>\n",
              "      <td>जा. &lt;eos&gt;</td>\n",
              "    </tr>\n",
              "    <tr>\n",
              "      <th>1</th>\n",
              "      <td>Run!</td>\n",
              "      <td>&lt;sos&gt; पळ!</td>\n",
              "      <td>पळ! &lt;eos&gt;</td>\n",
              "    </tr>\n",
              "    <tr>\n",
              "      <th>2</th>\n",
              "      <td>Run!</td>\n",
              "      <td>&lt;sos&gt; धाव!</td>\n",
              "      <td>धाव! &lt;eos&gt;</td>\n",
              "    </tr>\n",
              "    <tr>\n",
              "      <th>3</th>\n",
              "      <td>Run!</td>\n",
              "      <td>&lt;sos&gt; पळा!</td>\n",
              "      <td>पळा! &lt;eos&gt;</td>\n",
              "    </tr>\n",
              "    <tr>\n",
              "      <th>4</th>\n",
              "      <td>Run!</td>\n",
              "      <td>&lt;sos&gt; धावा!</td>\n",
              "      <td>धावा! &lt;eos&gt;</td>\n",
              "    </tr>\n",
              "    <tr>\n",
              "      <th>...</th>\n",
              "      <td>...</td>\n",
              "      <td>...</td>\n",
              "      <td>...</td>\n",
              "    </tr>\n",
              "    <tr>\n",
              "      <th>32406</th>\n",
              "      <td>I think I've already met you.</td>\n",
              "      <td>&lt;sos&gt; मला वाटतं मी तुला आधीच भेटले आहे.</td>\n",
              "      <td>मला वाटतं मी तुला आधीच भेटले आहे. &lt;eos&gt;</td>\n",
              "    </tr>\n",
              "    <tr>\n",
              "      <th>32407</th>\n",
              "      <td>I think I've already met you.</td>\n",
              "      <td>&lt;sos&gt; मला वाटतं मी तुम्हाला आधीच भेटले आहे.</td>\n",
              "      <td>मला वाटतं मी तुम्हाला आधीच भेटले आहे. &lt;eos&gt;</td>\n",
              "    </tr>\n",
              "    <tr>\n",
              "      <th>32408</th>\n",
              "      <td>I think I've already met you.</td>\n",
              "      <td>&lt;sos&gt; मला वाटतं मी तुम्हाला आधीच भेटलो आहे.</td>\n",
              "      <td>मला वाटतं मी तुम्हाला आधीच भेटलो आहे. &lt;eos&gt;</td>\n",
              "    </tr>\n",
              "    <tr>\n",
              "      <th>32409</th>\n",
              "      <td>I think about that every day.</td>\n",
              "      <td>&lt;sos&gt; मी त्याबद्दल दररोज विचार करतो.</td>\n",
              "      <td>मी त्याबद्दल दररोज विचार करतो. &lt;eos&gt;</td>\n",
              "    </tr>\n",
              "    <tr>\n",
              "      <th>32410</th>\n",
              "      <td>I think about that every day.</td>\n",
              "      <td>&lt;sos&gt; त्याबाबत मी दररोजच विचार करते.</td>\n",
              "      <td>त्याबाबत मी दररोजच विचार करते. &lt;eos&gt;</td>\n",
              "    </tr>\n",
              "  </tbody>\n",
              "</table>\n",
              "<p>32411 rows × 3 columns</p>\n",
              "</div>\n",
              "    <div class=\"colab-df-buttons\">\n",
              "\n",
              "  <div class=\"colab-df-container\">\n",
              "    <button class=\"colab-df-convert\" onclick=\"convertToInteractive('df-e0517de7-07a7-4a8c-84f0-6ce5a1722b70')\"\n",
              "            title=\"Convert this dataframe to an interactive table.\"\n",
              "            style=\"display:none;\">\n",
              "\n",
              "  <svg xmlns=\"http://www.w3.org/2000/svg\" height=\"24px\" viewBox=\"0 -960 960 960\">\n",
              "    <path d=\"M120-120v-720h720v720H120Zm60-500h600v-160H180v160Zm220 220h160v-160H400v160Zm0 220h160v-160H400v160ZM180-400h160v-160H180v160Zm440 0h160v-160H620v160ZM180-180h160v-160H180v160Zm440 0h160v-160H620v160Z\"/>\n",
              "  </svg>\n",
              "    </button>\n",
              "\n",
              "  <style>\n",
              "    .colab-df-container {\n",
              "      display:flex;\n",
              "      gap: 12px;\n",
              "    }\n",
              "\n",
              "    .colab-df-convert {\n",
              "      background-color: #E8F0FE;\n",
              "      border: none;\n",
              "      border-radius: 50%;\n",
              "      cursor: pointer;\n",
              "      display: none;\n",
              "      fill: #1967D2;\n",
              "      height: 32px;\n",
              "      padding: 0 0 0 0;\n",
              "      width: 32px;\n",
              "    }\n",
              "\n",
              "    .colab-df-convert:hover {\n",
              "      background-color: #E2EBFA;\n",
              "      box-shadow: 0px 1px 2px rgba(60, 64, 67, 0.3), 0px 1px 3px 1px rgba(60, 64, 67, 0.15);\n",
              "      fill: #174EA6;\n",
              "    }\n",
              "\n",
              "    .colab-df-buttons div {\n",
              "      margin-bottom: 4px;\n",
              "    }\n",
              "\n",
              "    [theme=dark] .colab-df-convert {\n",
              "      background-color: #3B4455;\n",
              "      fill: #D2E3FC;\n",
              "    }\n",
              "\n",
              "    [theme=dark] .colab-df-convert:hover {\n",
              "      background-color: #434B5C;\n",
              "      box-shadow: 0px 1px 3px 1px rgba(0, 0, 0, 0.15);\n",
              "      filter: drop-shadow(0px 1px 2px rgba(0, 0, 0, 0.3));\n",
              "      fill: #FFFFFF;\n",
              "    }\n",
              "  </style>\n",
              "\n",
              "    <script>\n",
              "      const buttonEl =\n",
              "        document.querySelector('#df-e0517de7-07a7-4a8c-84f0-6ce5a1722b70 button.colab-df-convert');\n",
              "      buttonEl.style.display =\n",
              "        google.colab.kernel.accessAllowed ? 'block' : 'none';\n",
              "\n",
              "      async function convertToInteractive(key) {\n",
              "        const element = document.querySelector('#df-e0517de7-07a7-4a8c-84f0-6ce5a1722b70');\n",
              "        const dataTable =\n",
              "          await google.colab.kernel.invokeFunction('convertToInteractive',\n",
              "                                                    [key], {});\n",
              "        if (!dataTable) return;\n",
              "\n",
              "        const docLinkHtml = 'Like what you see? Visit the ' +\n",
              "          '<a target=\"_blank\" href=https://colab.research.google.com/notebooks/data_table.ipynb>data table notebook</a>'\n",
              "          + ' to learn more about interactive tables.';\n",
              "        element.innerHTML = '';\n",
              "        dataTable['output_type'] = 'display_data';\n",
              "        await google.colab.output.renderOutput(dataTable, element);\n",
              "        const docLink = document.createElement('div');\n",
              "        docLink.innerHTML = docLinkHtml;\n",
              "        element.appendChild(docLink);\n",
              "      }\n",
              "    </script>\n",
              "  </div>\n",
              "\n",
              "\n",
              "<div id=\"df-456de0e8-f489-4b73-9de7-62fdab0459d2\">\n",
              "  <button class=\"colab-df-quickchart\" onclick=\"quickchart('df-456de0e8-f489-4b73-9de7-62fdab0459d2')\"\n",
              "            title=\"Suggest charts\"\n",
              "            style=\"display:none;\">\n",
              "\n",
              "<svg xmlns=\"http://www.w3.org/2000/svg\" height=\"24px\"viewBox=\"0 0 24 24\"\n",
              "     width=\"24px\">\n",
              "    <g>\n",
              "        <path d=\"M19 3H5c-1.1 0-2 .9-2 2v14c0 1.1.9 2 2 2h14c1.1 0 2-.9 2-2V5c0-1.1-.9-2-2-2zM9 17H7v-7h2v7zm4 0h-2V7h2v10zm4 0h-2v-4h2v4z\"/>\n",
              "    </g>\n",
              "</svg>\n",
              "  </button>\n",
              "\n",
              "<style>\n",
              "  .colab-df-quickchart {\n",
              "      --bg-color: #E8F0FE;\n",
              "      --fill-color: #1967D2;\n",
              "      --hover-bg-color: #E2EBFA;\n",
              "      --hover-fill-color: #174EA6;\n",
              "      --disabled-fill-color: #AAA;\n",
              "      --disabled-bg-color: #DDD;\n",
              "  }\n",
              "\n",
              "  [theme=dark] .colab-df-quickchart {\n",
              "      --bg-color: #3B4455;\n",
              "      --fill-color: #D2E3FC;\n",
              "      --hover-bg-color: #434B5C;\n",
              "      --hover-fill-color: #FFFFFF;\n",
              "      --disabled-bg-color: #3B4455;\n",
              "      --disabled-fill-color: #666;\n",
              "  }\n",
              "\n",
              "  .colab-df-quickchart {\n",
              "    background-color: var(--bg-color);\n",
              "    border: none;\n",
              "    border-radius: 50%;\n",
              "    cursor: pointer;\n",
              "    display: none;\n",
              "    fill: var(--fill-color);\n",
              "    height: 32px;\n",
              "    padding: 0;\n",
              "    width: 32px;\n",
              "  }\n",
              "\n",
              "  .colab-df-quickchart:hover {\n",
              "    background-color: var(--hover-bg-color);\n",
              "    box-shadow: 0 1px 2px rgba(60, 64, 67, 0.3), 0 1px 3px 1px rgba(60, 64, 67, 0.15);\n",
              "    fill: var(--button-hover-fill-color);\n",
              "  }\n",
              "\n",
              "  .colab-df-quickchart-complete:disabled,\n",
              "  .colab-df-quickchart-complete:disabled:hover {\n",
              "    background-color: var(--disabled-bg-color);\n",
              "    fill: var(--disabled-fill-color);\n",
              "    box-shadow: none;\n",
              "  }\n",
              "\n",
              "  .colab-df-spinner {\n",
              "    border: 2px solid var(--fill-color);\n",
              "    border-color: transparent;\n",
              "    border-bottom-color: var(--fill-color);\n",
              "    animation:\n",
              "      spin 1s steps(1) infinite;\n",
              "  }\n",
              "\n",
              "  @keyframes spin {\n",
              "    0% {\n",
              "      border-color: transparent;\n",
              "      border-bottom-color: var(--fill-color);\n",
              "      border-left-color: var(--fill-color);\n",
              "    }\n",
              "    20% {\n",
              "      border-color: transparent;\n",
              "      border-left-color: var(--fill-color);\n",
              "      border-top-color: var(--fill-color);\n",
              "    }\n",
              "    30% {\n",
              "      border-color: transparent;\n",
              "      border-left-color: var(--fill-color);\n",
              "      border-top-color: var(--fill-color);\n",
              "      border-right-color: var(--fill-color);\n",
              "    }\n",
              "    40% {\n",
              "      border-color: transparent;\n",
              "      border-right-color: var(--fill-color);\n",
              "      border-top-color: var(--fill-color);\n",
              "    }\n",
              "    60% {\n",
              "      border-color: transparent;\n",
              "      border-right-color: var(--fill-color);\n",
              "    }\n",
              "    80% {\n",
              "      border-color: transparent;\n",
              "      border-right-color: var(--fill-color);\n",
              "      border-bottom-color: var(--fill-color);\n",
              "    }\n",
              "    90% {\n",
              "      border-color: transparent;\n",
              "      border-bottom-color: var(--fill-color);\n",
              "    }\n",
              "  }\n",
              "</style>\n",
              "\n",
              "  <script>\n",
              "    async function quickchart(key) {\n",
              "      const quickchartButtonEl =\n",
              "        document.querySelector('#' + key + ' button');\n",
              "      quickchartButtonEl.disabled = true;  // To prevent multiple clicks.\n",
              "      quickchartButtonEl.classList.add('colab-df-spinner');\n",
              "      try {\n",
              "        const charts = await google.colab.kernel.invokeFunction(\n",
              "            'suggestCharts', [key], {});\n",
              "      } catch (error) {\n",
              "        console.error('Error during call to suggestCharts:', error);\n",
              "      }\n",
              "      quickchartButtonEl.classList.remove('colab-df-spinner');\n",
              "      quickchartButtonEl.classList.add('colab-df-quickchart-complete');\n",
              "    }\n",
              "    (() => {\n",
              "      let quickchartButtonEl =\n",
              "        document.querySelector('#df-456de0e8-f489-4b73-9de7-62fdab0459d2 button');\n",
              "      quickchartButtonEl.style.display =\n",
              "        google.colab.kernel.accessAllowed ? 'block' : 'none';\n",
              "    })();\n",
              "  </script>\n",
              "</div>\n",
              "    </div>\n",
              "  </div>\n"
            ]
          },
          "metadata": {},
          "execution_count": 8
        }
      ]
    },
    {
      "cell_type": "code",
      "source": [
        "english_text=df['English'].values[:10000]\n",
        "marathi_input_text=df['Marathi_input'].values[:10000]\n",
        "marathi_target_text=df['Marathi_target'].values[:10000]"
      ],
      "metadata": {
        "id": "6yEjXdNzERQz"
      },
      "execution_count": null,
      "outputs": []
    },
    {
      "cell_type": "code",
      "source": [
        "english_text[:10]"
      ],
      "metadata": {
        "colab": {
          "base_uri": "https://localhost:8080/"
        },
        "id": "zE4-f_boFlgE",
        "outputId": "c8ac1ea5-9639-4267-8590-d68dd23726d4"
      },
      "execution_count": null,
      "outputs": [
        {
          "output_type": "execute_result",
          "data": {
            "text/plain": [
              "array(['Go.', 'Run!', 'Run!', 'Run!', 'Run!', 'Who?', 'Wow!', 'Duck!',\n",
              "       'Fire!', 'Fire!'], dtype=object)"
            ]
          },
          "metadata": {},
          "execution_count": 10
        }
      ]
    },
    {
      "cell_type": "code",
      "source": [
        "english_text=[text.lower() for text in english_text]\n",
        "marathi_input_text=[text.lower() for text in marathi_input_text]\n",
        "marathi_target_text=[text.lower() for text in marathi_target_text]\n",
        "\n",
        "def remove_punct(text):\n",
        "  new=str.maketrans('','',a)\n",
        "  new_text=[]\n",
        "  for i in text:\n",
        "    text_withoutpunct=[t.translate(new) for t in i.split(' ')]\n",
        "    new_text.append(' '.join(text_withoutpunct))\n",
        "  return new_text\n",
        "\n",
        "english_text=remove_punct(english_text)\n",
        "marathi_input_text=remove_punct(marathi_input_text)\n",
        "marathi_target_text=remove_punct(marathi_target_text)\n",
        "\n",
        "remove_digits = str.maketrans('', '', digits)\n",
        "removed_digits_text = []\n",
        "for sent in english_text:\n",
        "  sentance = [w.translate(remove_digits) for w in sent.split(' ')]\n",
        "  removed_digits_text.append(' '.join(sentance))\n",
        "english_text = removed_digits_text\n",
        "\n",
        "marathi_input_text = [re.sub(\"[२३०८१५७९४६]\",\"\",x) for x in marathi_input_text]\n",
        "marathi_target_text = [re.sub(\"[२३०८१५७९४६]\",\"\",x) for x in marathi_target_text]\n",
        "\n",
        "english_text=[x.strip() for x in english_text]\n",
        "marathi_input_text= [x.strip() for x in marathi_input_text]\n",
        "marathi_target_text= [x.strip() for x in marathi_target_text]\n",
        "\n"
      ],
      "metadata": {
        "id": "WG8qDNtLEu92"
      },
      "execution_count": null,
      "outputs": []
    },
    {
      "cell_type": "code",
      "source": [
        "english_text[:10]"
      ],
      "metadata": {
        "colab": {
          "base_uri": "https://localhost:8080/"
        },
        "id": "Akdi9AMrFOAz",
        "outputId": "c6b574c7-a971-497a-e728-8d6dd88abde5"
      },
      "execution_count": null,
      "outputs": [
        {
          "output_type": "execute_result",
          "data": {
            "text/plain": [
              "['go', 'run', 'run', 'run', 'run', 'who', 'wow', 'duck', 'fire', 'fire']"
            ]
          },
          "metadata": {},
          "execution_count": 12
        }
      ]
    },
    {
      "cell_type": "code",
      "source": [
        "tokenize_ip=Tokenizer()"
      ],
      "metadata": {
        "id": "ou59zIxLHrhQ"
      },
      "execution_count": null,
      "outputs": []
    },
    {
      "cell_type": "code",
      "source": [
        "tokenize_ip.fit_on_texts(english_text)\n",
        "english_text=tokenize_ip.texts_to_sequences(english_text)"
      ],
      "metadata": {
        "id": "up5EV4mlIWH1"
      },
      "execution_count": null,
      "outputs": []
    },
    {
      "cell_type": "code",
      "source": [
        "vocab_english=len(tokenize_ip.word_index)"
      ],
      "metadata": {
        "id": "X2NNBYRkI3CW"
      },
      "execution_count": null,
      "outputs": []
    },
    {
      "cell_type": "code",
      "source": [
        "tokenize_op=Tokenizer(filters='')\n",
        "tokenize_op.fit_on_texts(marathi_input_text+marathi_target_text)\n",
        "marathi_input_text=tokenize_op.texts_to_sequences(marathi_input_text)\n",
        "marathi_target_text=tokenize_op.texts_to_sequences(marathi_target_text)\n"
      ],
      "metadata": {
        "id": "i1YretgMJHXF"
      },
      "execution_count": null,
      "outputs": []
    },
    {
      "cell_type": "code",
      "source": [
        "vocab_marathi=len(tokenize_op.word_index)\n"
      ],
      "metadata": {
        "id": "dTqs-dKIKc8t"
      },
      "execution_count": null,
      "outputs": []
    },
    {
      "cell_type": "code",
      "source": [
        "marathi_input_text[:10]"
      ],
      "metadata": {
        "colab": {
          "base_uri": "https://localhost:8080/"
        },
        "id": "B7kQ_KZeKgpL",
        "outputId": "3717bbc5-7b06-419b-a7ef-6ba44f96894d"
      },
      "execution_count": null,
      "outputs": [
        {
          "output_type": "execute_result",
          "data": {
            "text/plain": [
              "[[1, 200],\n",
              " [1, 2232],\n",
              " [1, 2233],\n",
              " [1, 2234],\n",
              " [1, 2235],\n",
              " [1, 30],\n",
              " [1, 968],\n",
              " [1, 217, 2236],\n",
              " [1, 1196],\n",
              " [1, 2237]]"
            ]
          },
          "metadata": {},
          "execution_count": 18
        }
      ]
    },
    {
      "cell_type": "code",
      "source": [
        "max_len_eng=max(len(i) for i in english_text)"
      ],
      "metadata": {
        "id": "A8oSj71lK8rN"
      },
      "execution_count": null,
      "outputs": []
    },
    {
      "cell_type": "code",
      "source": [
        "max_len_mar"
      ],
      "metadata": {
        "colab": {
          "base_uri": "https://localhost:8080/"
        },
        "id": "Z7auDHrkTDFd",
        "outputId": "510e520a-d6c7-451d-cc09-3a13295e803a"
      },
      "execution_count": null,
      "outputs": [
        {
          "output_type": "execute_result",
          "data": {
            "text/plain": [
              "6"
            ]
          },
          "metadata": {},
          "execution_count": 33
        }
      ]
    },
    {
      "cell_type": "code",
      "source": [
        "max_len_mar=max(len(i) for i in marathi_input_text)"
      ],
      "metadata": {
        "id": "4O9mQ7WyLW6x"
      },
      "execution_count": null,
      "outputs": []
    },
    {
      "cell_type": "code",
      "source": [
        "english_text=pad_sequences(english_text,maxlen=max_len_eng,padding='post')\n",
        "marathi_input_text=pad_sequences(marathi_input_text,maxlen=max_len_eng,padding='post')\n",
        "marathi_target_text=pad_sequences(marathi_target_text,maxlen=max_len_eng,padding='post')"
      ],
      "metadata": {
        "id": "CMblcllzMg2P"
      },
      "execution_count": null,
      "outputs": []
    },
    {
      "cell_type": "code",
      "source": [
        "marathi_target=np.zeros((len(english_text),max_len_mar,vocab_marathi+1))\n",
        "\n",
        "for i,word in enumerate(marathi_target_text):\n",
        "  for j,words in enumerate(word):\n",
        "    marathi_target[i,j,words]=1"
      ],
      "metadata": {
        "id": "fBzstiUAOIQ_"
      },
      "execution_count": null,
      "outputs": []
    },
    {
      "cell_type": "code",
      "source": [
        "marathi_target_text"
      ],
      "metadata": {
        "colab": {
          "base_uri": "https://localhost:8080/"
        },
        "id": "m_DZgDdsQBTl",
        "outputId": "99e7ef8a-63d0-488e-bebc-78caa6e029b3"
      },
      "execution_count": null,
      "outputs": [
        {
          "output_type": "execute_result",
          "data": {
            "text/plain": [
              "array([[ 200,    2,    0,    0,    0,    0],\n",
              "       [2232,    2,    0,    0,    0,    0],\n",
              "       [2233,    2,    0,    0,    0,    0],\n",
              "       ...,\n",
              "       [  41,  103,  644,  882,    5,    2],\n",
              "       [ 928, 3701,  267,    2,    0,    0],\n",
              "       [2069, 1237,    2,    0,    0,    0]], dtype=int32)"
            ]
          },
          "metadata": {},
          "execution_count": 38
        }
      ]
    },
    {
      "cell_type": "code",
      "source": [
        "len(marathi_target[0][0])"
      ],
      "metadata": {
        "colab": {
          "base_uri": "https://localhost:8080/"
        },
        "id": "qnyE6q_0QR16",
        "outputId": "5d10ee75-a29d-48ab-de94-ba246274ff17"
      },
      "execution_count": null,
      "outputs": [
        {
          "output_type": "execute_result",
          "data": {
            "text/plain": [
              "3702"
            ]
          },
          "metadata": {},
          "execution_count": 25
        }
      ]
    },
    {
      "cell_type": "code",
      "source": [
        "vocab_marathi"
      ],
      "metadata": {
        "colab": {
          "base_uri": "https://localhost:8080/"
        },
        "id": "R0tghnhUQVOf",
        "outputId": "df61f7fb-f1db-46bc-ceb0-6b8ade1bb3df"
      },
      "execution_count": null,
      "outputs": [
        {
          "output_type": "execute_result",
          "data": {
            "text/plain": [
              "3701"
            ]
          },
          "metadata": {},
          "execution_count": 26
        }
      ]
    },
    {
      "cell_type": "code",
      "source": [
        "marathi_input_text.shape"
      ],
      "metadata": {
        "colab": {
          "base_uri": "https://localhost:8080/"
        },
        "id": "K7MWlI3nggkq",
        "outputId": "e0a26691-db07-4ca9-d719-f47f1c451e0a"
      },
      "execution_count": null,
      "outputs": [
        {
          "output_type": "execute_result",
          "data": {
            "text/plain": [
              "(10000, 6)"
            ]
          },
          "metadata": {},
          "execution_count": 27
        }
      ]
    },
    {
      "cell_type": "code",
      "source": [
        "EMBEDDING_DIM=100\n",
        "LATENT_DIM=256\n",
        "encoder_inputs=Input((max_len_eng,))\n",
        "embedded_layer=Embedding(vocab_english,EMBEDDING_DIM)\n",
        "embedded_encoder=embedded_layer(encoder_inputs)\n",
        "lstm_layer_e=LSTM(LATENT_DIM,return_state=True)\n",
        "encoded_lstm,encoder_h,encoder_c=lstm_layer_e(embedded_encoder)\n",
        "encoder_states=[encoder_h,encoder_c]\n",
        "\n",
        "decoder_inputs=Input((max_len_mar,))\n",
        "decoder_layer=Embedding(vocab_marathi,EMBEDDING_DIM)\n",
        "embedded_decoder=decoder_layer(decoder_inputs)\n",
        "lstm_layer_d=LSTM(LATENT_DIM,return_sequences=True,return_state=True)\n",
        "decoded_lstm,_,_=lstm_layer_d(embedded_decoder,initial_state=encoder_states)\n",
        "dense_layer=Dense(vocab_marathi+1,activation='softmax')\n",
        "decoded_dense=dense_layer(decoded_lstm)\n",
        "model=Model([encoder_inputs,decoder_inputs],decoded_dense)\n",
        "model.compile(loss='categorical_crossentropy', optimizer='rmsprop', metrics=['accuracy'])\n"
      ],
      "metadata": {
        "id": "q6koWDSrQtja"
      },
      "execution_count": null,
      "outputs": []
    },
    {
      "cell_type": "code",
      "source": [
        "model.summary()"
      ],
      "metadata": {
        "colab": {
          "base_uri": "https://localhost:8080/"
        },
        "id": "P-vtCSWORYYl",
        "outputId": "5f71775d-5ffa-4d6e-f820-264cdec675de"
      },
      "execution_count": null,
      "outputs": [
        {
          "output_type": "stream",
          "name": "stdout",
          "text": [
            "Model: \"model_2\"\n",
            "__________________________________________________________________________________________________\n",
            " Layer (type)                Output Shape                 Param #   Connected to                  \n",
            "==================================================================================================\n",
            " input_5 (InputLayer)        [(None, 6)]                  0         []                            \n",
            "                                                                                                  \n",
            " input_6 (InputLayer)        [(None, 6)]                  0         []                            \n",
            "                                                                                                  \n",
            " embedding_4 (Embedding)     (None, 6, 100)               190600    ['input_5[0][0]']             \n",
            "                                                                                                  \n",
            " embedding_5 (Embedding)     (None, 6, 100)               370100    ['input_6[0][0]']             \n",
            "                                                                                                  \n",
            " lstm_4 (LSTM)               [(None, 256),                365568    ['embedding_4[0][0]']         \n",
            "                              (None, 256),                                                        \n",
            "                              (None, 256)]                                                        \n",
            "                                                                                                  \n",
            " lstm_5 (LSTM)               [(None, 6, 256),             365568    ['embedding_5[0][0]',         \n",
            "                              (None, 256),                           'lstm_4[0][1]',              \n",
            "                              (None, 256)]                           'lstm_4[0][2]']              \n",
            "                                                                                                  \n",
            " dense_2 (Dense)             (None, 6, 3702)              951414    ['lstm_5[0][0]']              \n",
            "                                                                                                  \n",
            "==================================================================================================\n",
            "Total params: 2243250 (8.56 MB)\n",
            "Trainable params: 2243250 (8.56 MB)\n",
            "Non-trainable params: 0 (0.00 Byte)\n",
            "__________________________________________________________________________________________________\n"
          ]
        }
      ]
    },
    {
      "cell_type": "code",
      "source": [
        "r=model.fit([english_text,marathi_input_text],marathi_target,batch_size=64,epochs=50,validation_split=0.2)"
      ],
      "metadata": {
        "colab": {
          "base_uri": "https://localhost:8080/"
        },
        "id": "9OTt4mqHRsOy",
        "outputId": "35304898-bcd6-4acf-da6e-558e5e7b0b51"
      },
      "execution_count": null,
      "outputs": [
        {
          "output_type": "stream",
          "name": "stdout",
          "text": [
            "Epoch 1/50\n",
            "125/125 [==============================] - 11s 67ms/step - loss: 4.3421 - accuracy: 0.3560 - val_loss: 4.2101 - val_accuracy: 0.3174\n",
            "Epoch 2/50\n",
            "125/125 [==============================] - 2s 19ms/step - loss: 3.3417 - accuracy: 0.4814 - val_loss: 3.9917 - val_accuracy: 0.4144\n",
            "Epoch 3/50\n",
            "125/125 [==============================] - 2s 16ms/step - loss: 3.1978 - accuracy: 0.4984 - val_loss: 3.9488 - val_accuracy: 0.4216\n",
            "Epoch 4/50\n",
            "125/125 [==============================] - 2s 15ms/step - loss: 3.1269 - accuracy: 0.5033 - val_loss: 3.8359 - val_accuracy: 0.4223\n",
            "Epoch 5/50\n",
            "125/125 [==============================] - 2s 14ms/step - loss: 3.0472 - accuracy: 0.5086 - val_loss: 3.8211 - val_accuracy: 0.4263\n",
            "Epoch 6/50\n",
            "125/125 [==============================] - 3s 21ms/step - loss: 2.9545 - accuracy: 0.5206 - val_loss: 3.7469 - val_accuracy: 0.4353\n",
            "Epoch 7/50\n",
            "125/125 [==============================] - 2s 18ms/step - loss: 2.8501 - accuracy: 0.5328 - val_loss: 3.7272 - val_accuracy: 0.4441\n",
            "Epoch 8/50\n",
            "125/125 [==============================] - 2s 13ms/step - loss: 2.7595 - accuracy: 0.5418 - val_loss: 3.6434 - val_accuracy: 0.4538\n",
            "Epoch 9/50\n",
            "125/125 [==============================] - 2s 14ms/step - loss: 2.6752 - accuracy: 0.5506 - val_loss: 3.5502 - val_accuracy: 0.4646\n",
            "Epoch 10/50\n",
            "125/125 [==============================] - 2s 13ms/step - loss: 2.5876 - accuracy: 0.5664 - val_loss: 3.4785 - val_accuracy: 0.4757\n",
            "Epoch 11/50\n",
            "125/125 [==============================] - 2s 15ms/step - loss: 2.5039 - accuracy: 0.5750 - val_loss: 3.4297 - val_accuracy: 0.4759\n",
            "Epoch 12/50\n",
            "125/125 [==============================] - 2s 13ms/step - loss: 2.4216 - accuracy: 0.5857 - val_loss: 3.4192 - val_accuracy: 0.4832\n",
            "Epoch 13/50\n",
            "125/125 [==============================] - 2s 20ms/step - loss: 2.3469 - accuracy: 0.5926 - val_loss: 3.3585 - val_accuracy: 0.4912\n",
            "Epoch 14/50\n",
            "125/125 [==============================] - 2s 17ms/step - loss: 2.2769 - accuracy: 0.6000 - val_loss: 3.3174 - val_accuracy: 0.4942\n",
            "Epoch 15/50\n",
            "125/125 [==============================] - 2s 15ms/step - loss: 2.2109 - accuracy: 0.6078 - val_loss: 3.2854 - val_accuracy: 0.5026\n",
            "Epoch 16/50\n",
            "125/125 [==============================] - 2s 13ms/step - loss: 2.1485 - accuracy: 0.6144 - val_loss: 3.2655 - val_accuracy: 0.5067\n",
            "Epoch 17/50\n",
            "125/125 [==============================] - 2s 14ms/step - loss: 2.0897 - accuracy: 0.6197 - val_loss: 3.2308 - val_accuracy: 0.5101\n",
            "Epoch 18/50\n",
            "125/125 [==============================] - 2s 14ms/step - loss: 2.0327 - accuracy: 0.6277 - val_loss: 3.2067 - val_accuracy: 0.5103\n",
            "Epoch 19/50\n",
            "125/125 [==============================] - 2s 15ms/step - loss: 1.9784 - accuracy: 0.6318 - val_loss: 3.1948 - val_accuracy: 0.5132\n",
            "Epoch 20/50\n",
            "125/125 [==============================] - 2s 19ms/step - loss: 1.9282 - accuracy: 0.6370 - val_loss: 3.1789 - val_accuracy: 0.5132\n",
            "Epoch 21/50\n",
            "125/125 [==============================] - 2s 15ms/step - loss: 1.8796 - accuracy: 0.6408 - val_loss: 3.1761 - val_accuracy: 0.5161\n",
            "Epoch 22/50\n",
            "125/125 [==============================] - 2s 13ms/step - loss: 1.8320 - accuracy: 0.6469 - val_loss: 3.1595 - val_accuracy: 0.5153\n",
            "Epoch 23/50\n",
            "125/125 [==============================] - 2s 13ms/step - loss: 1.7873 - accuracy: 0.6511 - val_loss: 3.1338 - val_accuracy: 0.5213\n",
            "Epoch 24/50\n",
            "125/125 [==============================] - 2s 13ms/step - loss: 1.7418 - accuracy: 0.6566 - val_loss: 3.1198 - val_accuracy: 0.5229\n",
            "Epoch 25/50\n",
            "125/125 [==============================] - 2s 13ms/step - loss: 1.6994 - accuracy: 0.6628 - val_loss: 3.1232 - val_accuracy: 0.5219\n",
            "Epoch 26/50\n",
            "125/125 [==============================] - 2s 14ms/step - loss: 1.6557 - accuracy: 0.6670 - val_loss: 3.0911 - val_accuracy: 0.5261\n",
            "Epoch 27/50\n",
            "125/125 [==============================] - 2s 18ms/step - loss: 1.6142 - accuracy: 0.6723 - val_loss: 3.0821 - val_accuracy: 0.5265\n",
            "Epoch 28/50\n",
            "125/125 [==============================] - 2s 17ms/step - loss: 1.5733 - accuracy: 0.6778 - val_loss: 3.0641 - val_accuracy: 0.5310\n",
            "Epoch 29/50\n",
            "125/125 [==============================] - 2s 14ms/step - loss: 1.5342 - accuracy: 0.6827 - val_loss: 3.0662 - val_accuracy: 0.5321\n",
            "Epoch 30/50\n",
            "125/125 [==============================] - 2s 14ms/step - loss: 1.4939 - accuracy: 0.6893 - val_loss: 3.0408 - val_accuracy: 0.5307\n",
            "Epoch 31/50\n",
            "125/125 [==============================] - 2s 14ms/step - loss: 1.4578 - accuracy: 0.6923 - val_loss: 3.0362 - val_accuracy: 0.5348\n",
            "Epoch 32/50\n",
            "125/125 [==============================] - 2s 14ms/step - loss: 1.4200 - accuracy: 0.6975 - val_loss: 3.0439 - val_accuracy: 0.5346\n",
            "Epoch 33/50\n",
            "125/125 [==============================] - 2s 14ms/step - loss: 1.3847 - accuracy: 0.7018 - val_loss: 3.0252 - val_accuracy: 0.5369\n",
            "Epoch 34/50\n",
            "125/125 [==============================] - 2s 14ms/step - loss: 1.3502 - accuracy: 0.7086 - val_loss: 3.0023 - val_accuracy: 0.5426\n",
            "Epoch 35/50\n",
            "125/125 [==============================] - 2s 17ms/step - loss: 1.3152 - accuracy: 0.7130 - val_loss: 3.0037 - val_accuracy: 0.5422\n",
            "Epoch 36/50\n",
            "125/125 [==============================] - 2s 15ms/step - loss: 1.2811 - accuracy: 0.7184 - val_loss: 2.9966 - val_accuracy: 0.5420\n",
            "Epoch 37/50\n",
            "125/125 [==============================] - 2s 13ms/step - loss: 1.2488 - accuracy: 0.7237 - val_loss: 2.9933 - val_accuracy: 0.5475\n",
            "Epoch 38/50\n",
            "125/125 [==============================] - 2s 13ms/step - loss: 1.2154 - accuracy: 0.7295 - val_loss: 2.9965 - val_accuracy: 0.5473\n",
            "Epoch 39/50\n",
            "125/125 [==============================] - 2s 13ms/step - loss: 1.1827 - accuracy: 0.7349 - val_loss: 2.9884 - val_accuracy: 0.5477\n",
            "Epoch 40/50\n",
            "125/125 [==============================] - 2s 13ms/step - loss: 1.1524 - accuracy: 0.7393 - val_loss: 2.9836 - val_accuracy: 0.5486\n",
            "Epoch 41/50\n",
            "125/125 [==============================] - 2s 14ms/step - loss: 1.1214 - accuracy: 0.7449 - val_loss: 2.9889 - val_accuracy: 0.5507\n",
            "Epoch 42/50\n",
            "125/125 [==============================] - 2s 14ms/step - loss: 1.0920 - accuracy: 0.7484 - val_loss: 2.9752 - val_accuracy: 0.5503\n",
            "Epoch 43/50\n",
            "125/125 [==============================] - 2s 15ms/step - loss: 1.0629 - accuracy: 0.7551 - val_loss: 2.9797 - val_accuracy: 0.5549\n",
            "Epoch 44/50\n",
            "125/125 [==============================] - 2s 14ms/step - loss: 1.0349 - accuracy: 0.7600 - val_loss: 2.9701 - val_accuracy: 0.5548\n",
            "Epoch 45/50\n",
            "125/125 [==============================] - 2s 13ms/step - loss: 1.0090 - accuracy: 0.7641 - val_loss: 2.9676 - val_accuracy: 0.5576\n",
            "Epoch 46/50\n",
            "125/125 [==============================] - 2s 13ms/step - loss: 0.9827 - accuracy: 0.7689 - val_loss: 2.9647 - val_accuracy: 0.5570\n",
            "Epoch 47/50\n",
            "125/125 [==============================] - 2s 13ms/step - loss: 0.9537 - accuracy: 0.7743 - val_loss: 2.9653 - val_accuracy: 0.5559\n",
            "Epoch 48/50\n",
            "125/125 [==============================] - 2s 14ms/step - loss: 0.9313 - accuracy: 0.7790 - val_loss: 2.9729 - val_accuracy: 0.5592\n",
            "Epoch 49/50\n",
            "125/125 [==============================] - 2s 13ms/step - loss: 0.9052 - accuracy: 0.7835 - val_loss: 2.9771 - val_accuracy: 0.5578\n",
            "Epoch 50/50\n",
            "125/125 [==============================] - 2s 16ms/step - loss: 0.8826 - accuracy: 0.7862 - val_loss: 2.9819 - val_accuracy: 0.5604\n"
          ]
        }
      ]
    },
    {
      "cell_type": "code",
      "source": [],
      "metadata": {
        "id": "-z3QRfvxk9u5"
      },
      "execution_count": null,
      "outputs": []
    },
    {
      "cell_type": "code",
      "source": [
        "plt.plot(r.history['loss'],label='loss')\n",
        "plt.plot(r.history['val_loss'],label='val_loss')\n",
        "plt.legend()\n",
        "plt.show()"
      ],
      "metadata": {
        "colab": {
          "base_uri": "https://localhost:8080/",
          "height": 434
        },
        "id": "EmW6Bb59SDtb",
        "outputId": "799e21ac-876b-4bc2-b2aa-ff8319016153"
      },
      "execution_count": null,
      "outputs": [
        {
          "output_type": "display_data",
          "data": {
            "text/plain": [
              "<Figure size 640x480 with 1 Axes>"
            ],
            "image/png": "[encoded data removed]"
          },
          "metadata": {}
        }
      ]
    },
    {
      "cell_type": "code",
      "source": [
        "plt.plot(r.history['accuracy'],label='accuracy')\n",
        "plt.plot(r.history['val_accuracy'],label='val_accuracy')\n",
        "plt.legend()\n",
        "plt.show()"
      ],
      "metadata": {
        "colab": {
          "base_uri": "https://localhost:8080/",
          "height": 430
        },
        "id": "3qC8XUlLk8Fn",
        "outputId": "0c832e95-8165-4878-ee53-e7e5eaae31ca"
      },
      "execution_count": null,
      "outputs": [
        {
          "output_type": "display_data",
          "data": {
            "text/plain": [
              "<Figure size 640x480 with 1 Axes>"
            ],
            "image/png": "[encoded data removed]"
          },
          "metadata": {}
        }
      ]
    },
    {
      "cell_type": "code",
      "source": [
        "encoder_model=Model(encoder_inputs,encoder_states)\n",
        "decoder_h=Input((LATENT_DIM,))\n",
        "decoder_c=Input((LATENT_DIM,))\n",
        "decoder_states_inputs=[decoder_h,decoder_c]\n",
        "decoder_input=Input((1,))\n",
        "embedding_output=decoder_layer(decoder_input)\n",
        "lstm_output,decoder_h,decoder_c=lstm_layer_d(embedding_output,initial_state=decoder_states_inputs)#as we have only 1 input so get only that states only so we store that states and and pass it to\n",
        "#next one\n",
        "decoder_states=[decoder_h,decoder_c]\n",
        "dense_output=dense_layer(lstm_output)\n",
        "decoder_model=Model([decoder_input]+decoder_states_inputs,[dense_output]+decoder_states)\n",
        "\n",
        "\n",
        "\n"
      ],
      "metadata": {
        "id": "ftyMxueslFvB"
      },
      "execution_count": null,
      "outputs": []
    },
    {
      "cell_type": "code",
      "source": [
        "decoder_model.summary()"
      ],
      "metadata": {
        "id": "0E2cOL6z89UJ",
        "colab": {
          "base_uri": "https://localhost:8080/"
        },
        "outputId": "d68ef6e3-1162-4d40-ec49-a60955706e94"
      },
      "execution_count": null,
      "outputs": [
        {
          "output_type": "stream",
          "name": "stdout",
          "text": [
            "Model: \"model_4\"\n",
            "__________________________________________________________________________________________________\n",
            " Layer (type)                Output Shape                 Param #   Connected to                  \n",
            "==================================================================================================\n",
            " input_9 (InputLayer)        [(None, 1)]                  0         []                            \n",
            "                                                                                                  \n",
            " embedding_5 (Embedding)     multiple                     370100    ['input_9[0][0]']             \n",
            "                                                                                                  \n",
            " input_7 (InputLayer)        [(None, 256)]                0         []                            \n",
            "                                                                                                  \n",
            " input_8 (InputLayer)        [(None, 256)]                0         []                            \n",
            "                                                                                                  \n",
            " lstm_5 (LSTM)               multiple                     365568    ['embedding_5[1][0]',         \n",
            "                                                                     'input_7[0][0]',             \n",
            "                                                                     'input_8[0][0]']             \n",
            "                                                                                                  \n",
            " dense_2 (Dense)             multiple                     951414    ['lstm_5[1][0]']              \n",
            "                                                                                                  \n",
            "==================================================================================================\n",
            "Total params: 1687082 (6.44 MB)\n",
            "Trainable params: 1687082 (6.44 MB)\n",
            "Non-trainable params: 0 (0.00 Byte)\n",
            "__________________________________________________________________________________________________\n"
          ]
        }
      ]
    },
    {
      "cell_type": "code",
      "source": [
        "idx2word_eng={v:k for k,v in tokenize_ip.word_index.items()}\n",
        "idx2word_mar={v:k for k,v in tokenize_op.word_index.items()}"
      ],
      "metadata": {
        "id": "O2LxTYXaIE4P"
      },
      "execution_count": null,
      "outputs": []
    },
    {
      "cell_type": "code",
      "source": [
        "marathi_target[0,0,:]"
      ],
      "metadata": {
        "colab": {
          "base_uri": "https://localhost:8080/"
        },
        "id": "-2kUHDHGWO_I",
        "outputId": "c1e7fa80-ea6a-4b4b-deee-e39757594931"
      },
      "execution_count": null,
      "outputs": [
        {
          "output_type": "execute_result",
          "data": {
            "text/plain": [
              "array([0., 0., 0., ..., 0., 0., 0.])"
            ]
          },
          "metadata": {},
          "execution_count": 50
        }
      ]
    },
    {
      "cell_type": "code",
      "source": [
        "def gen_output(text):\n",
        "  states_value=encoder_model.predict(text)#input text given to encoder will output states\n",
        "  target_word=np.zeros((1,1,))#one word passed at at time\n",
        "  target_word[0,0]=tokenize_op.word_index['<sos>']\n",
        "  eos=tokenize_op.word_index['<eos>']\n",
        "  output_sentence=[]\n",
        "  for _ in range(max_len_mar):\n",
        "    decoder_op,h,c=decoder_model.predict([target_word]+states_value)#one word is passed in decoder lstm so have one output only having shape [[[vocab_size]]]\n",
        "    print(decoder_op)\n",
        "    states_value=[h,c]\n",
        "    idx=np.argmax(decoder_op[0,0,:])\n",
        "    if eos==idx:\n",
        "      break\n",
        "    word=''\n",
        "    if idx>0:\n",
        "      word=idx2word_mar[idx]\n",
        "      output_sentence.append(word)\n",
        "    target_word[0,0]=idx\n",
        "  return ' '.join(output_sentence)\n"
      ],
      "metadata": {
        "id": "BJMOh2utNij8"
      },
      "execution_count": null,
      "outputs": []
    },
    {
      "cell_type": "code",
      "source": [
        "english_text_=df['English'].values[:10000]"
      ],
      "metadata": {
        "id": "QHfefB9QhaXk"
      },
      "execution_count": null,
      "outputs": []
    },
    {
      "cell_type": "code",
      "source": [
        "english_text_=[text.lower() for text in english_text_]\n",
        "# marathi_input_text=[text.lower() for text in marathi_input_text]\n",
        "# marathi_target_text=[text.lower() for text in marathi_target_text]\n",
        "\n",
        "def remove_punct(text):\n",
        "  new=str.maketrans('','',a)\n",
        "  new_text=[]\n",
        "  for i in text:\n",
        "    text_withoutpunct=[t.translate(new) for t in i.split(' ')]\n",
        "    new_text.append(' '.join(text_withoutpunct))\n",
        "  return new_text\n",
        "\n",
        "english_text_=remove_punct(english_text_)\n",
        "# marathi_input_text=remove_punct(marathi_input_text)\n",
        "# marathi_target_text=remove_punct(marathi_target_text)\n",
        "\n",
        "remove_digits = str.maketrans('', '', digits)\n",
        "removed_digits_text = []\n",
        "for sent in english_text_:\n",
        "  sentance = [w.translate(remove_digits) for w in sent.split(' ')]\n",
        "  removed_digits_text.append(' '.join(sentance))\n",
        "english_text_ = removed_digits_text\n",
        "\n",
        "# marathi_input_text = [re.sub(\"[२३०८१५७९४६]\",\"\",x) for x in marathi_input_text]\n",
        "# marathi_target_text = [re.sub(\"[२३०८१५७९४६]\",\"\",x) for x in marathi_target_text]\n",
        "\n",
        "english_text_=[x.strip() for x in english_text_]\n",
        "# marathi_input_text= [x.strip() for x in marathi_input_text]\n",
        "# marathi_target_text= [x.strip() for x in marathi_target_text]\n"
      ],
      "metadata": {
        "id": "1oS4JNt8heL9"
      },
      "execution_count": null,
      "outputs": []
    },
    {
      "cell_type": "code",
      "source": [
        "while True:\n",
        "  i=np.random.choice(len(english_text))\n",
        "  input_seq=english_text[i:i+1]\n",
        "  translation=gen_output(input_seq)\n",
        "  print(\"Input\",english_text_[i])\n",
        "  print(\"Translation\",translation)\n",
        "  ans=input(\"Y/N\")\n",
        "  if ans and ans.lower().startswith('n'):\n",
        "    break"
      ],
      "metadata": {
        "colab": {
          "base_uri": "https://localhost:8080/"
        },
        "id": "i6byNRuJZYIU",
        "outputId": "d868b25b-fb92-4fea-d495-8e2068778697"
      },
      "execution_count": null,
      "outputs": [
        {
          "name": "stdout",
          "output_type": "stream",
          "text": [
            "1/1 [==============================] - 0s 41ms/step\n",
            "1/1 [==============================] - 0s 64ms/step\n",
            "[[[1.4777655e-06 2.2687648e-06 1.0076726e-04 ... 2.9210662e-06\n",
            "   2.9345522e-06 2.1335013e-06]]]\n",
            "1/1 [==============================] - 0s 42ms/step\n",
            "[[[8.3910609e-06 6.7080975e-05 8.0479324e-05 ... 8.8654408e-05\n",
            "   7.3590716e-05 6.5165841e-05]]]\n",
            "1/1 [==============================] - 0s 46ms/step\n",
            "[[[3.8525890e-04 5.1612147e-05 4.3146724e-07 ... 5.3032723e-05\n",
            "   4.3873064e-05 3.4164954e-05]]]\n",
            "1/1 [==============================] - 0s 55ms/step\n",
            "[[[2.8483246e-06 6.4411934e-06 3.0105000e-03 ... 6.8075788e-06\n",
            "   6.0727007e-06 6.2767604e-06]]]\n",
            "1/1 [==============================] - 0s 32ms/step\n",
            "[[[8.6205487e-11 3.2172590e-08 9.9924552e-01 ... 3.7811596e-08\n",
            "   2.7913938e-08 3.8444934e-08]]]\n",
            "Input i dont eat pork\n",
            "Translation मी तसं करत नाही\n",
            "Y/Ny\n",
            "1/1 [==============================] - 0s 17ms/step\n",
            "1/1 [==============================] - 0s 21ms/step\n",
            "[[[3.4295501e-06 4.8803951e-05 2.6883818e-05 ... 6.1813997e-05\n",
            "   5.3439777e-05 4.8847163e-05]]]\n",
            "1/1 [==============================] - 0s 23ms/step\n",
            "[[[4.6166824e-07 3.6222827e-05 5.4643147e-06 ... 4.5091052e-05\n",
            "   3.7099020e-05 2.5709654e-05]]]\n",
            "1/1 [==============================] - 0s 22ms/step\n",
            "[[[1.7592893e-07 5.3090509e-05 5.9440325e-04 ... 6.4196225e-05\n",
            "   5.7236430e-05 4.5108987e-05]]]\n",
            "1/1 [==============================] - 0s 19ms/step\n",
            "[[[1.9828605e-12 2.7909001e-08 9.9966359e-01 ... 3.4644195e-08\n",
            "   2.9617265e-08 2.7694558e-08]]]\n",
            "Input bring that here\n",
            "Translation इथे इथे ये\n",
            "Y/Ny\n",
            "1/1 [==============================] - 0s 26ms/step\n",
            "1/1 [==============================] - 0s 39ms/step\n",
            "[[[2.0618994e-05 8.6744612e-06 4.6306326e-05 ... 9.7552474e-06\n",
            "   1.0841040e-05 7.7752020e-06]]]\n",
            "1/1 [==============================] - 0s 40ms/step\n",
            "[[[4.39009540e-09 1.16840065e-05 3.66692075e-06 ... 1.23781829e-05\n",
            "   1.57975810e-05 1.14064260e-05]]]\n",
            "1/1 [==============================] - 0s 36ms/step\n",
            "[[[3.2465505e-06 3.3003929e-05 1.7827857e-08 ... 2.9724975e-05\n",
            "   3.9554703e-05 2.2657539e-05]]]\n",
            "1/1 [==============================] - 0s 45ms/step\n",
            "[[[4.1282841e-12 1.4362313e-06 9.8379838e-01 ... 1.1254245e-06\n",
            "   1.5736471e-06 1.3290722e-06]]]\n",
            "Input someone told tom\n",
            "Translation त्यांनी टॉमला सांगितलं\n",
            "Y/NY\n",
            "1/1 [==============================] - 0s 17ms/step\n",
            "1/1 [==============================] - 0s 23ms/step\n",
            "[[[3.0122794e-06 7.2342641e-07 1.5721741e-07 ... 1.0109743e-06\n",
            "   9.9978706e-07 9.4509465e-07]]]\n",
            "1/1 [==============================] - 0s 19ms/step\n",
            "[[[1.1413186e-08 5.3248099e-05 2.0789342e-04 ... 6.1830768e-05\n",
            "   8.3556391e-05 6.4600885e-05]]]\n",
            "1/1 [==============================] - 0s 18ms/step\n",
            "[[[2.6786907e-04 4.5296420e-05 2.3500414e-05 ... 5.3292471e-05\n",
            "   5.1277566e-05 4.9434733e-05]]]\n",
            "1/1 [==============================] - 0s 18ms/step\n",
            "[[[4.6422058e-03 1.2181145e-05 3.0112963e-03 ... 1.2155407e-05\n",
            "   1.0869974e-05 1.3234809e-05]]]\n",
            "1/1 [==============================] - 0s 18ms/step\n",
            "[[[1.5203797e-08 2.4419782e-08 9.9817610e-01 ... 2.3798748e-08\n",
            "   2.5721734e-08 3.1126447e-08]]]\n",
            "Input you always forget\n",
            "Translation तू जाऊ जाऊ नाहीस\n",
            "Y/NY\n",
            "1/1 [==============================] - 0s 22ms/step\n",
            "1/1 [==============================] - 0s 21ms/step\n",
            "[[[9.7932798e-07 5.3841093e-05 4.4842596e-05 ... 6.6996094e-05\n",
            "   4.2735515e-05 6.2685423e-05]]]\n",
            "1/1 [==============================] - 0s 20ms/step\n",
            "[[[1.0256113e-09 6.0507118e-05 6.2625324e-03 ... 7.1712006e-05\n",
            "   6.6103144e-05 6.1565443e-05]]]\n",
            "1/1 [==============================] - 0s 21ms/step\n",
            "[[[8.3442413e-17 1.8254136e-08 9.9947578e-01 ... 1.8690621e-08\n",
            "   1.9861899e-08 2.0291338e-08]]]\n",
            "Input its going well\n",
            "Translation माझी नाहीये\n",
            "Y/Ny\n",
            "1/1 [==============================] - 0s 18ms/step\n",
            "1/1 [==============================] - 0s 20ms/step\n",
            "[[[5.8591657e-05 1.7614499e-05 3.7775328e-05 ... 1.5671172e-05\n",
            "   1.4589514e-05 1.6568512e-05]]]\n",
            "1/1 [==============================] - 0s 23ms/step\n",
            "[[[1.9191239e-06 2.3903855e-05 6.1880492e-05 ... 2.1286702e-05\n",
            "   1.8633891e-05 2.0479969e-05]]]\n",
            "1/1 [==============================] - 0s 20ms/step\n",
            "[[[2.9746418e-06 4.4596898e-05 4.1325968e-02 ... 5.1147854e-05\n",
            "   4.5900440e-05 5.4351927e-05]]]\n",
            "1/1 [==============================] - 0s 26ms/step\n",
            "[[[7.4036479e-09 4.7449934e-08 9.9945801e-01 ... 5.5237667e-08\n",
            "   4.5900407e-08 5.6039298e-08]]]\n",
            "Input what did she say\n",
            "Translation ती काय म्हटलं\n",
            "Y/Ny\n",
            "1/1 [==============================] - 0s 18ms/step\n",
            "1/1 [==============================] - 0s 21ms/step\n",
            "[[[2.95641576e-06 1.87988353e-05 1.40441125e-05 ... 1.49362568e-05\n",
            "   1.53569526e-05 1.42172248e-05]]]\n",
            "1/1 [==============================] - 0s 20ms/step\n",
            "[[[1.8778868e-08 4.1387178e-05 2.8852253e-06 ... 3.4069370e-05\n",
            "   4.0076055e-05 3.3739117e-05]]]\n",
            "1/1 [==============================] - 0s 22ms/step\n",
            "[[[1.2136511e-06 4.1179403e-05 3.1223763e-07 ... 3.3294262e-05\n",
            "   4.2686883e-05 3.3953460e-05]]]\n",
            "1/1 [==============================] - 0s 24ms/step\n",
            "[[[1.9382757e-12 8.9964976e-07 9.9224877e-01 ... 8.4969190e-07\n",
            "   8.7701267e-07 1.0122465e-06]]]\n",
            "Input who gave you that\n",
            "Translation तुला कोणी चावलं\n",
            "Y/NY\n",
            "1/1 [==============================] - 0s 17ms/step\n",
            "1/1 [==============================] - 0s 21ms/step\n",
            "[[[1.3602451e-09 3.6045078e-06 2.9955452e-05 ... 3.9371580e-06\n",
            "   3.4237107e-06 3.2231383e-06]]]\n",
            "1/1 [==============================] - 0s 19ms/step\n",
            "[[[6.7564440e-11 8.4116844e-05 3.1924975e-04 ... 9.5351425e-05\n",
            "   7.8618024e-05 7.9523503e-05]]]\n",
            "1/1 [==============================] - 0s 19ms/step\n",
            "[[[4.0213577e-10 4.8291400e-05 2.2368638e-03 ... 5.8988026e-05\n",
            "   4.0493382e-05 5.1851621e-05]]]\n",
            "1/1 [==============================] - 0s 20ms/step\n",
            "[[[1.2743586e-09 5.9285963e-08 1.4221531e-02 ... 5.7709606e-08\n",
            "   4.6389200e-08 6.0981868e-08]]]\n",
            "1/1 [==============================] - 0s 24ms/step\n",
            "[[[3.5562011e-12 1.3779690e-09 9.9997652e-01 ... 1.2760766e-09\n",
            "   1.0279059e-09 1.3206278e-09]]]\n",
            "Input tom has grown up\n",
            "Translation टॉम चांगला झाला आहे\n",
            "Y/Nn\n"
          ]
        }
      ]
    },
    {
      "cell_type": "code",
      "source": [
        "english_text_=df['English'].values[:10000]"
      ],
      "metadata": {
        "id": "vcuaj_5FcDko"
      },
      "execution_count": null,
      "outputs": []
    },
    {
      "cell_type": "code",
      "source": [
        "\n"
      ],
      "metadata": {
        "id": "b-8FFpj6eiXM"
      },
      "execution_count": null,
      "outputs": []
    },
    {
      "cell_type": "code",
      "source": [],
      "metadata": {
        "id": "kZR1bzIIfolD"
      },
      "execution_count": null,
      "outputs": []
    }
  ]
}